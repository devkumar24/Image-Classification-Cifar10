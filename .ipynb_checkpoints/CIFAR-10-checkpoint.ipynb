{
 "cells": [
  {
   "cell_type": "code",
   "execution_count": 1,
   "metadata": {},
   "outputs": [
    {
     "name": "stderr",
     "output_type": "stream",
     "text": [
      "Using TensorFlow backend.\n"
     ]
    }
   ],
   "source": [
    "import tensorflow as tf\n",
    "import keras\n",
    "from keras.datasets import cifar10\n",
    "from keras.utils import to_categorical\n",
    "from keras.models import Sequential\n",
    "from keras.layers import Conv2D, MaxPool2D, Flatten, Dense, Dropout"
   ]
  },
  {
   "cell_type": "code",
   "execution_count": 2,
   "metadata": {},
   "outputs": [],
   "source": [
    "import numpy as np\n",
    "import pandas as pd\n",
    "import matplotlib.pyplot as plt"
   ]
  },
  {
   "cell_type": "markdown",
   "metadata": {},
   "source": [
    "# Load Dataset"
   ]
  },
  {
   "cell_type": "code",
   "execution_count": 3,
   "metadata": {},
   "outputs": [],
   "source": [
    "def load_dataset(name_of_dataset):\n",
    "    (X_train, Y_train) , (X_test, Y_test) = name_of_dataset.load_data()\n",
    "    \n",
    "    return X_train, Y_train, X_test, Y_test"
   ]
  },
  {
   "cell_type": "code",
   "execution_count": 4,
   "metadata": {},
   "outputs": [],
   "source": [
    "X_train, Y_train, X_test, Y_test = load_dataset(cifar10)"
   ]
  },
  {
   "cell_type": "markdown",
   "metadata": {},
   "source": [
    "# X, Y"
   ]
  },
  {
   "cell_type": "code",
   "execution_count": 5,
   "metadata": {},
   "outputs": [
    {
     "name": "stdout",
     "output_type": "stream",
     "text": [
      "(50000, 32, 32, 3)\n",
      "(10000, 32, 32, 3)\n",
      "(50000, 1)\n",
      "(10000, 1)\n"
     ]
    }
   ],
   "source": [
    "print(X_train.shape)\n",
    "print(X_test.shape)\n",
    "print(Y_train.shape)\n",
    "print(Y_test.shape)"
   ]
  },
  {
   "cell_type": "markdown",
   "metadata": {},
   "source": [
    "# y_train, y_test into ONE HOT ENCODING"
   ]
  },
  {
   "cell_type": "code",
   "execution_count": 6,
   "metadata": {},
   "outputs": [],
   "source": [
    "Y_train = to_categorical(Y_train)\n",
    "Y_test = to_categorical(Y_test)"
   ]
  },
  {
   "cell_type": "code",
   "execution_count": 7,
   "metadata": {},
   "outputs": [
    {
     "name": "stdout",
     "output_type": "stream",
     "text": [
      "(50000, 10)\n",
      "(10000, 10)\n"
     ]
    }
   ],
   "source": [
    "print(Y_train.shape)\n",
    "print(Y_test.shape)"
   ]
  },
  {
   "cell_type": "markdown",
   "metadata": {},
   "source": [
    "# PLOT IMAGES"
   ]
  },
  {
   "cell_type": "code",
   "execution_count": 8,
   "metadata": {},
   "outputs": [],
   "source": [
    "def display_image(image):\n",
    "    image = image.reshape((32,32,3))\n",
    "    plt.imshow(image)\n",
    "    plt.show()"
   ]
  },
  {
   "cell_type": "code",
   "execution_count": 9,
   "metadata": {},
   "outputs": [
    {
     "data": {
      "image/png": "[encoded data removed]",
      "text/plain": [
       "<Figure size 432x288 with 1 Axes>"
      ]
     },
     "metadata": {
      "needs_background": "light"
     },
     "output_type": "display_data"
    }
   ],
   "source": [
    "display_image(X_train[0])\n"
   ]
  },
  {
   "cell_type": "markdown",
   "metadata": {},
   "source": [
    "# NORMALIZE"
   ]
  },
  {
   "cell_type": "code",
   "execution_count": 10,
   "metadata": {},
   "outputs": [],
   "source": [
    "def normalize(X_train, X_test):\n",
    "    X_train = X_train.astype('float32')/255.\n",
    "    X_test = X_test.astype('float32')/255.\n",
    "    \n",
    "    return X_train, X_test"
   ]
  },
  {
   "cell_type": "code",
   "execution_count": 11,
   "metadata": {},
   "outputs": [],
   "source": [
    "X_train, X_test = normalize(X_train,X_test)"
   ]
  },
  {
   "cell_type": "code",
   "execution_count": 12,
   "metadata": {},
   "outputs": [],
   "source": [
    "dict = {\n",
    "    0: 'Airplane',\n",
    "    1: 'Car',\n",
    "    2: 'Bird',\n",
    "    3: 'Cat',\n",
    "    4: 'Deer',\n",
    "    5: 'Dog',\n",
    "    6: 'Frog',\n",
    "    7: 'Horse',\n",
    "    8: 'Ship',\n",
    "    9: 'Truck',\n",
    "}"
   ]
  },
  {
   "cell_type": "markdown",
   "metadata": {},
   "source": [
    "# CNN MODEL"
   ]
  },
  {
   "cell_type": "code",
   "execution_count": 13,
   "metadata": {},
   "outputs": [
    {
     "name": "stdout",
     "output_type": "stream",
     "text": [
      "Model: \"sequential_1\"\n",
      "_________________________________________________________________\n",
      "Layer (type)                 Output Shape              Param #   \n",
      "=================================================================\n",
      "conv2d_1 (Conv2D)            (None, 32, 32, 256)       7168      \n",
      "_________________________________________________________________\n",
      "max_pooling2d_1 (MaxPooling2 (None, 16, 16, 256)       0         \n",
      "_________________________________________________________________\n",
      "conv2d_2 (Conv2D)            (None, 16, 16, 512)       1180160   \n",
      "_________________________________________________________________\n",
      "max_pooling2d_2 (MaxPooling2 (None, 8, 8, 512)         0         \n",
      "_________________________________________________________________\n",
      "conv2d_3 (Conv2D)            (None, 6, 6, 512)         2359808   \n",
      "_________________________________________________________________\n",
      "max_pooling2d_3 (MaxPooling2 (None, 3, 3, 512)         0         \n",
      "_________________________________________________________________\n",
      "flatten_1 (Flatten)          (None, 4608)              0         \n",
      "_________________________________________________________________\n",
      "dense_1 (Dense)              (None, 512)               2359808   \n",
      "_________________________________________________________________\n",
      "dropout_1 (Dropout)          (None, 512)               0         \n",
      "_________________________________________________________________\n",
      "dense_2 (Dense)              (None, 10)                5130      \n",
      "=================================================================\n",
      "Total params: 5,912,074\n",
      "Trainable params: 5,912,074\n",
      "Non-trainable params: 0\n",
      "_________________________________________________________________\n"
     ]
    }
   ],
   "source": [
    "cifar10_model = Sequential()\n",
    "cifar10_model.add( Conv2D(filters = 256, kernel_size = (3,3), activation = 'relu', input_shape = (32,32,3), padding = 'same' ) )\n",
    "cifar10_model.add( MaxPool2D(pool_size = (2,2) ) )\n",
    "cifar10_model.add( Conv2D(filters = 512, kernel_size = (3,3), activation = 'relu', padding = 'same' ) )\n",
    "cifar10_model.add( MaxPool2D(pool_size = (2,2) ) )\n",
    "cifar10_model.add( Conv2D(filters = 512, kernel_size = (3,3), activation = 'relu' ) )\n",
    "cifar10_model.add( MaxPool2D(pool_size = (2,2) ) )\n",
    "cifar10_model.add( Flatten() )\n",
    "cifar10_model.add( Dense(units = 512, activation = 'tanh') )\n",
    "cifar10_model.add( Dropout(0.3) )\n",
    "cifar10_model.add( Dense(units = len(dict), activation = 'softmax') )\n",
    "cifar10_model.summary()"
   ]
  },
  {
   "cell_type": "code",
   "execution_count": 14,
   "metadata": {},
   "outputs": [],
   "source": [
    "cifar10_model.compile( optimizer='adam', loss = \"categorical_crossentropy\", metrics=['accuracy'] )"
   ]
  },
  {
   "cell_type": "code",
   "execution_count": 15,
   "metadata": {},
   "outputs": [
    {
     "name": "stdout",
     "output_type": "stream",
     "text": [
      "Train on 40000 samples, validate on 10000 samples\n",
      "Epoch 1/20\n",
      "40000/40000 [==============================] - 104s 3ms/step - loss: 1.6994 - accuracy: 0.3802 - val_loss: 1.3403 - val_accuracy: 0.5240\n",
      "Epoch 2/20\n",
      "40000/40000 [==============================] - 90s 2ms/step - loss: 1.2164 - accuracy: 0.5675 - val_loss: 1.1749 - val_accuracy: 0.5777\n",
      "Epoch 3/20\n",
      "40000/40000 [==============================] - 94s 2ms/step - loss: 1.0027 - accuracy: 0.6489 - val_loss: 0.9983 - val_accuracy: 0.6503\n",
      "Epoch 4/20\n",
      "40000/40000 [==============================] - 105s 3ms/step - loss: 0.8764 - accuracy: 0.6960 - val_loss: 0.9114 - val_accuracy: 0.6885\n",
      "Epoch 5/20\n",
      "40000/40000 [==============================] - 105s 3ms/step - loss: 0.7757 - accuracy: 0.7297 - val_loss: 0.8125 - val_accuracy: 0.7215\n",
      "Epoch 6/20\n",
      "40000/40000 [==============================] - 116s 3ms/step - loss: 0.6834 - accuracy: 0.7626 - val_loss: 0.8152 - val_accuracy: 0.7187\n",
      "Epoch 7/20\n",
      "40000/40000 [==============================] - 150s 4ms/step - loss: 0.6146 - accuracy: 0.7885 - val_loss: 0.7881 - val_accuracy: 0.7314\n",
      "Epoch 8/20\n",
      "40000/40000 [==============================] - 139s 3ms/step - loss: 0.5500 - accuracy: 0.8086 - val_loss: 0.7889 - val_accuracy: 0.7379\n",
      "Epoch 9/20\n",
      "40000/40000 [==============================] - 143s 4ms/step - loss: 0.4997 - accuracy: 0.8263 - val_loss: 0.8483 - val_accuracy: 0.7160\n",
      "Epoch 10/20\n",
      "40000/40000 [==============================] - 168s 4ms/step - loss: 0.4564 - accuracy: 0.8417 - val_loss: 0.7638 - val_accuracy: 0.7480\n",
      "Epoch 11/20\n",
      "40000/40000 [==============================] - 236s 6ms/step - loss: 0.3816 - accuracy: 0.8647 - val_loss: 0.8409 - val_accuracy: 0.7422\n",
      "Epoch 12/20\n",
      "40000/40000 [==============================] - 222s 6ms/step - loss: 0.3443 - accuracy: 0.8785 - val_loss: 0.8709 - val_accuracy: 0.7388\n",
      "Epoch 13/20\n",
      "40000/40000 [==============================] - 236s 6ms/step - loss: 0.2926 - accuracy: 0.8976 - val_loss: 0.9313 - val_accuracy: 0.7325\n",
      "Epoch 14/20\n",
      "40000/40000 [==============================] - 250s 6ms/step - loss: 0.2546 - accuracy: 0.9110 - val_loss: 0.9732 - val_accuracy: 0.7326\n",
      "Epoch 15/20\n",
      "40000/40000 [==============================] - 303s 8ms/step - loss: 0.2231 - accuracy: 0.9213 - val_loss: 0.9582 - val_accuracy: 0.7471\n",
      "Epoch 16/20\n",
      "40000/40000 [==============================] - 397s 10ms/step - loss: 0.1988 - accuracy: 0.9289 - val_loss: 1.0754 - val_accuracy: 0.7362\n",
      "Epoch 17/20\n",
      "40000/40000 [==============================] - 433s 11ms/step - loss: 0.1568 - accuracy: 0.9450 - val_loss: 1.1181 - val_accuracy: 0.7404\n",
      "Epoch 18/20\n",
      "40000/40000 [==============================] - 432s 11ms/step - loss: 0.1607 - accuracy: 0.9430 - val_loss: 1.2041 - val_accuracy: 0.7345\n",
      "Epoch 19/20\n",
      "40000/40000 [==============================] - 432s 11ms/step - loss: 0.1293 - accuracy: 0.9543 - val_loss: 1.2455 - val_accuracy: 0.7395\n",
      "Epoch 20/20\n",
      "40000/40000 [==============================] - 433s 11ms/step - loss: 0.1187 - accuracy: 0.9567 - val_loss: 1.3791 - val_accuracy: 0.7272\n"
     ]
    }
   ],
   "source": [
    "hist = cifar10_model.fit(X_train, Y_train, batch_size = 256, epochs = 20, validation_split= 0.2, shuffle= True )"
   ]
  },
  {
   "cell_type": "code",
   "execution_count": 16,
   "metadata": {},
   "outputs": [],
   "source": [
    "history = hist.history"
   ]
  },
  {
   "cell_type": "code",
   "execution_count": 17,
   "metadata": {},
   "outputs": [
    {
     "data": {
      "text/plain": [
       "[<matplotlib.lines.Line2D at 0x1e1234b7f48>]"
      ]
     },
     "execution_count": 17,
     "metadata": {},
     "output_type": "execute_result"
    },
    {
     "data": {
      "image/png": "[encoded data removed]",
      "text/plain": [
       "<Figure size 432x288 with 1 Axes>"
      ]
     },
     "metadata": {
      "needs_background": "light"
     },
     "output_type": "display_data"
    }
   ],
   "source": [
    "plt.plot(history['accuracy'])\n",
    "plt.plot(history['val_accuracy'])"
   ]
  },
  {
   "cell_type": "code",
   "execution_count": 18,
   "metadata": {},
   "outputs": [
    {
     "data": {
      "text/plain": [
       "[<matplotlib.lines.Line2D at 0x1e121ee2688>]"
      ]
     },
     "execution_count": 18,
     "metadata": {},
     "output_type": "execute_result"
    },
    {
     "data": {
      "image/png": "[encoded data removed]",
      "text/plain": [
       "<Figure size 432x288 with 1 Axes>"
      ]
     },
     "metadata": {
      "needs_background": "light"
     },
     "output_type": "display_data"
    }
   ],
   "source": [
    "plt.plot(history['loss'])\n",
    "plt.plot(history['val_loss'])"
   ]
  },
  {
   "cell_type": "code",
   "execution_count": 19,
   "metadata": {},
   "outputs": [
    {
     "name": "stdout",
     "output_type": "stream",
     "text": [
      "10000/10000 [==============================] - 10s 1ms/step\n"
     ]
    }
   ],
   "source": [
    "acc = cifar10_model.evaluate(X_test, Y_test)"
   ]
  },
  {
   "cell_type": "code",
   "execution_count": 28,
   "metadata": {},
   "outputs": [
    {
     "name": "stdout",
     "output_type": "stream",
     "text": [
      "Accuracy Of Model-> 73.3299970626831\n",
      "Loss  Of Model-> 1.410540011882782\n"
     ]
    }
   ],
   "source": [
    "print(\"Accuracy Of Model->\", acc[1]*100)\n",
    "print(\"Loss  Of Model->\", acc[0])"
   ]
  },
  {
   "cell_type": "code",
   "execution_count": 22,
   "metadata": {},
   "outputs": [],
   "source": [
    "pred = cifar10_model.predict_classes(X_test[10].reshape(1,32,32,3))"
   ]
  },
  {
   "cell_type": "code",
   "execution_count": 37,
   "metadata": {},
   "outputs": [
    {
     "data": {
      "image/png": "[encoded data removed]",
      "text/plain": [
       "<Figure size 432x288 with 1 Axes>"
      ]
     },
     "metadata": {
      "needs_background": "light"
     },
     "output_type": "display_data"
    }
   ],
   "source": [
    "display_image(X_test[100])"
   ]
  },
  {
   "cell_type": "code",
   "execution_count": 38,
   "metadata": {},
   "outputs": [
    {
     "name": "stdout",
     "output_type": "stream",
     "text": [
      "Prediction-> 4\n",
      "Original Output-> 4\n",
      "Name Of Class(Original)-> Deer\n",
      "Name of Class(Predicted)-> Deer\n"
     ]
    }
   ],
   "source": [
    "print(\"Prediction->\", pred[0])\n",
    "print(\"Original Output->\", np.argmax(Y_test[100]))\n",
    "print(\"Name Of Class(Original)->\", dict[np.argmax(Y_test[100])])\n",
    "print(\"Name of Class(Predicted)->\", dict[pred[0]])"
   ]
  },
  {
   "cell_type": "code",
   "execution_count": null,
   "metadata": {},
   "outputs": [],
   "source": []
  },
  {
   "cell_type": "code",
   "execution_count": 39,
   "metadata": {},
   "outputs": [],
   "source": [
    "cifar10_model.save(\"CIFAR10_MODEL.h5\")"
   ]
  },
  {
   "cell_type": "code",
   "execution_count": null,
   "metadata": {},
   "outputs": [],
   "source": []
  }
 ],
 "metadata": {
  "kernelspec": {
   "display_name": "Python 3",
   "language": "python",
   "name": "python3"
  },
  "language_info": {
   "codemirror_mode": {
    "name": "ipython",
    "version": 3
   },
   "file_extension": ".py",
   "mimetype": "text/x-python",
   "name": "python",
   "nbconvert_exporter": "python",
   "pygments_lexer": "ipython3",
   "version": "3.7.7"
  }
 },
 "nbformat": 4,
 "nbformat_minor": 4
}
